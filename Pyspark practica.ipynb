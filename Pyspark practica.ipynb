{
 "cells": [
  {
   "cell_type": "code",
   "execution_count": 2,
   "id": "4f588a86-ae6d-4094-9c9f-29bbb8bcdf3c",
   "metadata": {
    "tags": []
   },
   "outputs": [],
   "source": [
    "import findspark\n",
    "findspark.init()\n",
    "import pyspark\n",
    "import pandas as pd\n",
    "from pyspark.sql import SparkSession"
   ]
  },
  {
   "cell_type": "code",
   "execution_count": 8,
   "id": "b40b4f2b",
   "metadata": {},
   "outputs": [],
   "source": [
    "from pyspark.sql.functions import *"
   ]
  },
  {
   "cell_type": "code",
   "execution_count": 6,
   "id": "1ee0ccff-4bc8-41d2-ab1d-269e043b7fde",
   "metadata": {
    "tags": []
   },
   "outputs": [],
   "source": [
    "spark = SparkSession.builder.getOrCreate()\n",
    "sc = spark.sparkContext"
   ]
  },
  {
   "cell_type": "code",
   "execution_count": 7,
   "id": "6ffb85d6-9de4-4c1c-bf30-aa7eb2c7eca3",
   "metadata": {},
   "outputs": [
    {
     "data": {
      "text/html": [
       "\n",
       "        <div>\n",
       "            <p><b>SparkContext</b></p>\n",
       "\n",
       "            <p><a href=\"http://LAPTOP-55A9NO27:4040\">Spark UI</a></p>\n",
       "\n",
       "            <dl>\n",
       "              <dt>Version</dt>\n",
       "                <dd><code>v3.4.1</code></dd>\n",
       "              <dt>Master</dt>\n",
       "                <dd><code>local[*]</code></dd>\n",
       "              <dt>AppName</dt>\n",
       "                <dd><code>pyspark-shell</code></dd>\n",
       "            </dl>\n",
       "        </div>\n",
       "        "
      ],
      "text/plain": [
       "<SparkContext master=local[*] appName=pyspark-shell>"
      ]
     },
     "execution_count": 7,
     "metadata": {},
     "output_type": "execute_result"
    }
   ],
   "source": [
    "sc"
   ]
  },
  {
   "cell_type": "code",
   "execution_count": 13,
   "id": "66cb52d2",
   "metadata": {},
   "outputs": [
    {
     "name": "stdout",
     "output_type": "stream",
     "text": [
      "+-------+---+-----------+\n",
      "|   Name|Age|       City|\n",
      "+-------+---+-----------+\n",
      "|  Alice| 25|   New York|\n",
      "|    Bob| 30|Los Angeles|\n",
      "|Charlie| 22|    Chicago|\n",
      "+-------+---+-----------+\n",
      "\n"
     ]
    }
   ],
   "source": [
    "data = [(\"Alice\", 25, \"New York\"),\n",
    "        (\"Bob\", 30, \"Los Angeles\"),\n",
    "        (\"Charlie\", 22, \"Chicago\")]\n",
    "df = spark.createDataFrame(data, [\"Name\",\"Age\",\"City\"])\n",
    "df.show()"
   ]
  },
  {
   "cell_type": "code",
   "execution_count": 15,
   "id": "cbe60ef1",
   "metadata": {},
   "outputs": [
    {
     "name": "stdout",
     "output_type": "stream",
     "text": [
      "+-------+\n",
      "|   Name|\n",
      "+-------+\n",
      "|  Alice|\n",
      "|    Bob|\n",
      "|Charlie|\n",
      "+-------+\n",
      "\n"
     ]
    }
   ],
   "source": [
    "p2 = df.select(\"Name\")\n",
    "p2.show()"
   ]
  },
  {
   "cell_type": "code",
   "execution_count": 18,
   "id": "946806e2",
   "metadata": {},
   "outputs": [
    {
     "name": "stdout",
     "output_type": "stream",
     "text": [
      "+-----+\n",
      "| Name|\n",
      "+-----+\n",
      "|Alice|\n",
      "|  Bob|\n",
      "+-----+\n",
      "\n"
     ]
    }
   ],
   "source": [
    "p3 = df.select(\"Name\").filter(df.Age >= 25)\n",
    "p3.show()"
   ]
  },
  {
   "cell_type": "code",
   "execution_count": 19,
   "id": "6aeed861",
   "metadata": {},
   "outputs": [
    {
     "name": "stdout",
     "output_type": "stream",
     "text": [
      "+-------+---+-----------+-------+\n",
      "|   Name|Age|       City|Country|\n",
      "+-------+---+-----------+-------+\n",
      "|  Alice| 25|   New York|     US|\n",
      "|    Bob| 30|Los Angeles|     US|\n",
      "|Charlie| 22|    Chicago|     US|\n",
      "+-------+---+-----------+-------+\n",
      "\n"
     ]
    }
   ],
   "source": [
    "p4 = df.withColumn(\"Country\", lit(\"US\"))\n",
    "p4.show()"
   ]
  },
  {
   "cell_type": "code",
   "execution_count": 20,
   "id": "e6f9bd74",
   "metadata": {},
   "outputs": [
    {
     "name": "stdout",
     "output_type": "stream",
     "text": [
      "+-------+------------------+\n",
      "|summary|               Age|\n",
      "+-------+------------------+\n",
      "|   mean|25.666666666666668|\n",
      "+-------+------------------+\n",
      "\n"
     ]
    }
   ],
   "source": [
    "p5 = df.select(df['Age']).summary(\"mean\")\n",
    "p5.show()"
   ]
  },
  {
   "cell_type": "code",
   "execution_count": 22,
   "id": "5196c23b",
   "metadata": {},
   "outputs": [
    {
     "name": "stdout",
     "output_type": "stream",
     "text": [
      "+-------+---+-----------+\n",
      "|   Name|Age|       City|\n",
      "+-------+---+-----------+\n",
      "|    Bob| 30|Los Angeles|\n",
      "|  Alice| 25|   New York|\n",
      "|Charlie| 22|    Chicago|\n",
      "+-------+---+-----------+\n",
      "\n"
     ]
    }
   ],
   "source": [
    "p6 = df.sort(desc(\"Age\"))\n",
    "p6.show()"
   ]
  },
  {
   "cell_type": "code",
   "execution_count": 24,
   "id": "5e944c18",
   "metadata": {},
   "outputs": [
    {
     "name": "stdout",
     "output_type": "stream",
     "text": [
      "+-----------+---------+\n",
      "|       City|#personas|\n",
      "+-----------+---------+\n",
      "|   New York|        1|\n",
      "|Los Angeles|        1|\n",
      "|    Chicago|        1|\n",
      "+-----------+---------+\n",
      "\n"
     ]
    }
   ],
   "source": [
    "p7 = df.groupBy(\"City\").agg(count(\"Name\").alias(\"#personas\"))\n",
    "p7.show()"
   ]
  },
  {
   "cell_type": "code",
   "execution_count": 25,
   "id": "f814c21a",
   "metadata": {},
   "outputs": [
    {
     "name": "stdout",
     "output_type": "stream",
     "text": [
      "+--------------+---+-----------+\n",
      "|NombreCompleto|Age|       City|\n",
      "+--------------+---+-----------+\n",
      "|         Alice| 25|   New York|\n",
      "|           Bob| 30|Los Angeles|\n",
      "|       Charlie| 22|    Chicago|\n",
      "+--------------+---+-----------+\n",
      "\n"
     ]
    }
   ],
   "source": [
    "p8 = df.withColumnRenamed(\"Name\",\"NombreCompleto\")\n",
    "p8.show()"
   ]
  },
  {
   "cell_type": "code",
   "execution_count": 26,
   "id": "2744e739",
   "metadata": {},
   "outputs": [
    {
     "name": "stdout",
     "output_type": "stream",
     "text": [
      "+-------+-----------+\n",
      "|   Name|       City|\n",
      "+-------+-----------+\n",
      "|  Alice|   New York|\n",
      "|    Bob|Los Angeles|\n",
      "|Charlie|    Chicago|\n",
      "+-------+-----------+\n",
      "\n"
     ]
    }
   ],
   "source": [
    "p9 = df.drop(\"Age\")\n",
    "p9.show()"
   ]
  },
  {
   "cell_type": "code",
   "execution_count": 27,
   "id": "8d76b868",
   "metadata": {},
   "outputs": [],
   "source": [
    "df.createOrReplaceTempView(\"tmp_table\")"
   ]
  },
  {
   "cell_type": "code",
   "execution_count": 29,
   "id": "4b89469b",
   "metadata": {},
   "outputs": [
    {
     "name": "stdout",
     "output_type": "stream",
     "text": [
      "+-------+---+-----------+\n",
      "|   Name|Age|       City|\n",
      "+-------+---+-----------+\n",
      "|  Alice| 25|   New York|\n",
      "|    Bob| 30|Los Angeles|\n",
      "|Charlie| 22|    Chicago|\n",
      "+-------+---+-----------+\n",
      "\n"
     ]
    }
   ],
   "source": [
    "spark.sql(\"select * from tmp_table where Age >= 20\").show()"
   ]
  },
  {
   "cell_type": "code",
   "execution_count": 30,
   "id": "435c6e1c",
   "metadata": {},
   "outputs": [
    {
     "name": "stdout",
     "output_type": "stream",
     "text": [
      "+-------+\n",
      "|Age_sum|\n",
      "+-------+\n",
      "|     77|\n",
      "+-------+\n",
      "\n"
     ]
    }
   ],
   "source": [
    "spark.sql(\"select sum(Age) Age_sum from tmp_table\").show()"
   ]
  },
  {
   "cell_type": "code",
   "execution_count": 31,
   "id": "7d8b0d72",
   "metadata": {},
   "outputs": [
    {
     "name": "stdout",
     "output_type": "stream",
     "text": [
      "+-------+-------+\n",
      "|min_age|max_age|\n",
      "+-------+-------+\n",
      "|     22|     30|\n",
      "+-------+-------+\n",
      "\n"
     ]
    }
   ],
   "source": [
    "spark.sql(\"select min(Age) min_age, max(Age) max_age from tmp_table\").show()"
   ]
  },
  {
   "cell_type": "code",
   "execution_count": 33,
   "id": "a190d2ee",
   "metadata": {},
   "outputs": [
    {
     "name": "stdout",
     "output_type": "stream",
     "text": [
      "+-------+---+-------+\n",
      "|   Name|Age|   City|\n",
      "+-------+---+-------+\n",
      "|Charlie| 22|Chicago|\n",
      "+-------+---+-------+\n",
      "\n"
     ]
    }
   ],
   "source": [
    "spark.sql(\"select * from tmp_table where City = 'Chicago' and Age < 30\").show()"
   ]
  },
  {
   "cell_type": "code",
   "execution_count": 34,
   "id": "3bdb18de",
   "metadata": {},
   "outputs": [
    {
     "name": "stdout",
     "output_type": "stream",
     "text": [
      "+-------+---+-----------+-------------+\n",
      "|   Name|Age|       City|EdadDuplicada|\n",
      "+-------+---+-----------+-------------+\n",
      "|  Alice| 25|   New York|           50|\n",
      "|    Bob| 30|Los Angeles|           60|\n",
      "|Charlie| 22|    Chicago|           44|\n",
      "+-------+---+-----------+-------------+\n",
      "\n"
     ]
    }
   ],
   "source": [
    "p14 = df.withColumn(\"EdadDuplicada\", col(\"Age\") * 2)\n",
    "p14.show()"
   ]
  },
  {
   "cell_type": "code",
   "execution_count": 35,
   "id": "b811c722",
   "metadata": {},
   "outputs": [
    {
     "name": "stdout",
     "output_type": "stream",
     "text": [
      "+-------+---+-----------+---------+\n",
      "|   Name|Age|       City|EdadMeses|\n",
      "+-------+---+-----------+---------+\n",
      "|  Alice| 25|   New York|      300|\n",
      "|    Bob| 30|Los Angeles|      360|\n",
      "|Charlie| 22|    Chicago|      264|\n",
      "+-------+---+-----------+---------+\n",
      "\n"
     ]
    }
   ],
   "source": [
    "p15 = df.withColumn(\"EdadMeses\", col(\"Age\") * 12)\n",
    "p15.show()"
   ]
  },
  {
   "cell_type": "code",
   "execution_count": 39,
   "id": "d37c6b56",
   "metadata": {},
   "outputs": [
    {
     "name": "stdout",
     "output_type": "stream",
     "text": [
      "+--------------+\n",
      "|total_personas|\n",
      "+--------------+\n",
      "|             3|\n",
      "+--------------+\n",
      "\n"
     ]
    }
   ],
   "source": [
    "p16 = spark.sql(\"select count(Name) total_personas from tmp_table\")\n",
    "p16.show()"
   ]
  },
  {
   "cell_type": "code",
   "execution_count": 42,
   "id": "dfd5b5cb",
   "metadata": {},
   "outputs": [
    {
     "name": "stdout",
     "output_type": "stream",
     "text": [
      "+-------+---+-----------+\n",
      "|   Name|Age|       City|\n",
      "+-------+---+-----------+\n",
      "|    Bob| 30|Los Angeles|\n",
      "|Charlie| 22|    Chicago|\n",
      "+-------+---+-----------+\n",
      "\n"
     ]
    }
   ],
   "source": [
    "p17 = df.filter(df.Age % 2 == 0)\n",
    "p17.show()"
   ]
  },
  {
   "cell_type": "code",
   "execution_count": 44,
   "id": "ac8fc847",
   "metadata": {},
   "outputs": [
    {
     "name": "stdout",
     "output_type": "stream",
     "text": [
      "+---------+--------------+\n",
      "|age_range|total_personas|\n",
      "+---------+--------------+\n",
      "|    21-40|             3|\n",
      "+---------+--------------+\n",
      "\n"
     ]
    }
   ],
   "source": [
    "p18 = spark.sql(\"select case when age between 0 and 20 then '0-20'\" +\n",
    "                            \"when age between 21 and 40 then '21-40'\" +\n",
    "                            \"when age between 41 and 60 then '41-60'\" +\n",
    "                            \"when age > 60 then '61+'end age_range, count(name) total_personas from tmp_table group by 1\")\n",
    "p18.show()"
   ]
  },
  {
   "cell_type": "code",
   "execution_count": 46,
   "id": "baaa143c",
   "metadata": {},
   "outputs": [
    {
     "name": "stdout",
     "output_type": "stream",
     "text": [
      "+-------+---------+\n",
      "|   Name|#personas|\n",
      "+-------+---------+\n",
      "|  Alice|        1|\n",
      "|    Bob|        1|\n",
      "|Charlie|        1|\n",
      "+-------+---------+\n",
      "\n"
     ]
    }
   ],
   "source": [
    "p19 = df.groupBy(\"Name\").agg(count(\"Name\").alias(\"#personas\"))\n",
    "p19.show()"
   ]
  },
  {
   "cell_type": "code",
   "execution_count": 47,
   "id": "59e3b1d5",
   "metadata": {},
   "outputs": [
    {
     "name": "stdout",
     "output_type": "stream",
     "text": [
      "+-------+---+-----------+-------------------+\n",
      "|   Name|Age|       City|InformacionPersonal|\n",
      "+-------+---+-----------+-------------------+\n",
      "|  Alice| 25|   New York|    Alice, New York|\n",
      "|    Bob| 30|Los Angeles|   Bob, Los Angeles|\n",
      "|Charlie| 22|    Chicago|   Charlie, Chicago|\n",
      "+-------+---+-----------+-------------------+\n",
      "\n"
     ]
    }
   ],
   "source": [
    "p20 = df.withColumn(\"InformacionPersonal\", concat(col(\"Name\"),lit(\", \"),col(\"City\")))\n",
    "p20.show()"
   ]
  },
  {
   "cell_type": "code",
   "execution_count": null,
   "id": "8d05103e",
   "metadata": {},
   "outputs": [],
   "source": []
  }
 ],
 "metadata": {
  "kernelspec": {
   "display_name": "Python 3 (ipykernel)",
   "language": "python",
   "name": "python3"
  },
  "language_info": {
   "codemirror_mode": {
    "name": "ipython",
    "version": 3
   },
   "file_extension": ".py",
   "mimetype": "text/x-python",
   "name": "python",
   "nbconvert_exporter": "python",
   "pygments_lexer": "ipython3",
   "version": "3.11.4"
  }
 },
 "nbformat": 4,
 "nbformat_minor": 5
}
